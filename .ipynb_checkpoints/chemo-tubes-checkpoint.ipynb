{
 "cells": [
  {
   "cell_type": "code",
   "execution_count": 1,
   "metadata": {
    "colab": {
     "base_uri": "https://localhost:8080/",
     "height": 70
    },
    "colab_type": "code",
    "id": "wX5-sbPw23qV",
    "outputId": "e0604cdf-98a5-4896-a0ec-c62b0a356c3b"
   },
   "outputs": [
    {
     "name": "stderr",
     "output_type": "stream",
     "text": [
      "C:\\Users\\user\\Anaconda3\\lib\\site-packages\\ipykernel_launcher.py:4: ParserWarning: Falling back to the 'python' engine because the 'c' engine does not support regex separators (separators > 1 char and different from '\\s+' are interpreted as regex); you can avoid this warning by specifying engine='python'.\n",
      "  after removing the cwd from sys.path.\n"
     ]
    }
   ],
   "source": [
    "import pandas as pd\n",
    "from collections import Counter\n",
    "#bacanya .xyz\n",
    "df = pd.read_csv('data-1.xyz',delimiter='     ',names=['Atom','X','Y','Z'],skiprows=[0,1])\n"
   ]
  },
  {
   "cell_type": "code",
   "execution_count": 2,
   "metadata": {
    "colab": {
     "base_uri": "https://localhost:8080/",
     "height": 420
    },
    "colab_type": "code",
    "id": "wtKdjR__CPkY",
    "outputId": "9248636d-0d88-46c1-8dd3-55f1ee35d1d4"
   },
   "outputs": [
    {
     "data": {
      "text/plain": [
       "[['C1', -29.98576, 15.224910000000001, 0.0],\n",
       " ['C2', -31.319490000000002, 14.413089999999999, 0.0],\n",
       " ['C3', -31.319490000000002, 12.87309, 0.0],\n",
       " ['C4', -29.98576, 12.14472, 0.0],\n",
       " ['C5', -28.65203, 12.91491, 0.0],\n",
       " ['C6', -28.65203, 14.45491, 0.0],\n",
       " ['C7', -27.318479999999997, 15.224910000000001, 0.0],\n",
       " ['C8', -25.98475, 14.45491, 0.0],\n",
       " ['C9', -24.65101, 15.224910000000001, 0.0],\n",
       " ['C10', -25.98475, 12.91491, 0.0],\n",
       " ['N1', -24.65101, 12.144910000000001, 0.0],\n",
       " ['C11', -23.31747, 12.91491, 0.0],\n",
       " ['C12', -23.31747, 14.45491, 0.0],\n",
       " ['C13', -21.983729999999998, 15.224910000000001, 0.0],\n",
       " ['C14', -20.65, 14.45491, 0.0],\n",
       " ['O1', -24.6512, 16.76491, 0.0],\n",
       " ['C15', -19.31645, 15.224910000000001, 0.0],\n",
       " ['C16', -20.65, 12.91491, 0.0],\n",
       " ['C17', -19.31645, 12.144910000000001, 0.0],\n",
       " ['C18', -17.98272, 12.91491, 0.0],\n",
       " ['C19', -17.98272, 14.45491, 0.0],\n",
       " ['Br1', -16.648989999999998, 15.224910000000001, 0.0],\n",
       " ['Br2', -32.662, 15.1676, 0.0],\n",
       " ['C20', -23.31747, 9.83491, 0.0],\n",
       " ['C21', -23.31728, 8.29491, 0.0],\n",
       " ['C22', -21.983729999999998, 7.52491, 0.0],\n",
       " ['C23', -20.65, 8.29491, 0.0],\n",
       " ['C24', -20.65, 9.83491, 0.0],\n",
       " ['C25', -21.983729999999998, 10.60491, 0.0],\n",
       " ['C26', -24.65101, 10.60491, 0.0]]"
      ]
     },
     "execution_count": 2,
     "metadata": {},
     "output_type": "execute_result"
    }
   ],
   "source": [
    "#Itung jumlah tiap atom -> jadiin list\n",
    "dictatom = Counter(df['Atom'])\n",
    "dictatom\n",
    "dictnames = dict.fromkeys(dictatom, 0)\n",
    "\n",
    "atomlist = df.values.tolist()\n",
    "column = []\n",
    "for i in range(len(atomlist)):\n",
    "    atom = str(atomlist[i][0])\n",
    "    noatom =  dictnames[atom] + 1\n",
    "    dictnames[atom] = noatom\n",
    "    atomlist[i][0] = atom+str(noatom)\n",
    "    column.append(atomlist[i][0])\n",
    "atomlist"
   ]
  },
  {
   "cell_type": "code",
   "execution_count": 3,
   "metadata": {
    "colab": {
     "base_uri": "https://localhost:8080/",
     "height": 420
    },
    "colab_type": "code",
    "id": "_HtkJDqN62eh",
    "outputId": "d78b5eaf-3598-4775-f427-4aef69532853"
   },
   "outputs": [
    {
     "data": {
      "text/plain": [
       "['C1',\n",
       " 'C2',\n",
       " 'C3',\n",
       " 'C4',\n",
       " 'C5',\n",
       " 'C6',\n",
       " 'C7',\n",
       " 'C8',\n",
       " 'C9',\n",
       " 'C10',\n",
       " 'N1',\n",
       " 'C11',\n",
       " 'C12',\n",
       " 'C13',\n",
       " 'C14',\n",
       " 'O1',\n",
       " 'C15',\n",
       " 'C16',\n",
       " 'C17',\n",
       " 'C18',\n",
       " 'C19',\n",
       " 'Br1',\n",
       " 'Br2',\n",
       " 'C20',\n",
       " 'C21',\n",
       " 'C22',\n",
       " 'C23',\n",
       " 'C24',\n",
       " 'C25',\n",
       " 'C26']"
      ]
     },
     "execution_count": 3,
     "metadata": {},
     "output_type": "execute_result"
    }
   ],
   "source": [
    "column"
   ]
  },
  {
   "cell_type": "code",
   "execution_count": 4,
   "metadata": {
    "colab": {},
    "colab_type": "code",
    "id": "XAgG-2j74te8"
   },
   "outputs": [],
   "source": [
    "#Itung matriksnya\n",
    "import math\n",
    "def dist(p0, p1):\n",
    "    return math.sqrt((p0[0] - p1[0])**2 + (p0[1] - p1[1])**2)\n",
    "\n",
    "def distlist(atom,listatom):\n",
    "    listdistance = []\n",
    "    for i in range(len(listatom)):\n",
    "        distance = dist(atom[1:3],listatom[i][1:3])\n",
    "        result = 0\n",
    "        if distance < 1.4 and distance != 0:\n",
    "            result = 1\n",
    "        listdistance.append(result)\n",
    "    return listdistance\n",
    "\n",
    "adjvector = []\n",
    "for i in range(len(atomlist)):\n",
    "    listdistance = distlist(atomlist[i],atomlist)\n",
    "    adjvector.append(listdistance)\n",
    "dfvector = pd.DataFrame(adjvector,columns=column,index=column)\n",
    "dfvector.to_csv('vector.csv', sep='\\t')"
   ]
  },
  {
   "cell_type": "code",
   "execution_count": null,
   "metadata": {
    "scrolled": true
   },
   "outputs": [],
   "source": []
  },
  {
   "cell_type": "code",
   "execution_count": null,
   "metadata": {},
   "outputs": [],
   "source": []
  },
  {
   "cell_type": "code",
   "execution_count": null,
   "metadata": {},
   "outputs": [],
   "source": []
  },
  {
   "cell_type": "code",
   "execution_count": null,
   "metadata": {},
   "outputs": [],
   "source": []
  }
 ],
 "metadata": {
  "colab": {
   "collapsed_sections": [],
   "name": "Untitled16.ipynb",
   "provenance": []
  },
  "kernelspec": {
   "display_name": "Python 3",
   "language": "python",
   "name": "python3"
  },
  "language_info": {
   "codemirror_mode": {
    "name": "ipython",
    "version": 3
   },
   "file_extension": ".py",
   "mimetype": "text/x-python",
   "name": "python",
   "nbconvert_exporter": "python",
   "pygments_lexer": "ipython3",
   "version": "3.7.4"
  }
 },
 "nbformat": 4,
 "nbformat_minor": 1
}
